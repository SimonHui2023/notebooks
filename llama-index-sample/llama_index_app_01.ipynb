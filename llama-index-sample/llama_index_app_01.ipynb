{
  "cells": [
    {
      "cell_type": "markdown",
      "metadata": {
        "id": "view-in-github",
        "colab_type": "text"
      },
      "source": [
        "<a href=\"https://colab.research.google.com/github/SimonHui2023/notebooks/blob/main/llama-index-sample/llama_index_app_01.ipynb\" target=\"_parent\"><img src=\"https://colab.research.google.com/assets/colab-badge.svg\" alt=\"Open In Colab\"/></a>"
      ]
    },
    {
      "cell_type": "code",
      "execution_count": null,
      "metadata": {
        "id": "QCy11Qqj4SM9"
      },
      "outputs": [],
      "source": [
        "!git clone https://github.com/SimonHui2023/notebooks.git"
      ]
    },
    {
      "cell_type": "code",
      "execution_count": null,
      "metadata": {
        "colab": {
          "base_uri": "https://localhost:8080/"
        },
        "id": "aNcfAqoA473z",
        "outputId": "e1cde2e4-a95c-4679-a22d-66d16e53085c"
      },
      "outputs": [
        {
          "name": "stdout",
          "output_type": "stream",
          "text": [
            "/content/notebooks/llama-index-sample\n"
          ]
        }
      ],
      "source": [
        "%cd notebooks/llama-index-sample"
      ]
    },
    {
      "cell_type": "code",
      "execution_count": null,
      "metadata": {
        "id": "tLsreeut5Di9"
      },
      "outputs": [],
      "source": [
        "!pip install -r requirements.txt"
      ]
    },
    {
      "cell_type": "code",
      "execution_count": null,
      "metadata": {
        "colab": {
          "base_uri": "https://localhost:8080/"
        },
        "id": "7U-bVhVEgRcF",
        "outputId": "e0265ee5-f0a8-4008-c9b0-8444867e74f1"
      },
      "outputs": [
        {
          "name": "stdout",
          "output_type": "stream",
          "text": [
            "usage: huggingface-cli <command> [<args>] login [-h] [--token TOKEN] [--add-to-git-credential]\n",
            "huggingface-cli <command> [<args>] login: error: argument --token: expected one argument\n",
            "Consider using `hf_transfer` for faster downloads. This solution comes with some limitations. See https://huggingface.co/docs/huggingface_hub/hf_transfer for more details.\n",
            "downloading https://huggingface.co/TheBloke/Llama-2-7b-Chat-GGUF/resolve/main/llama-2-7b-chat.Q4_K_M.gguf to /root/.cache/huggingface/hub/tmpp4qg75ne\n",
            "llama-2-7b-chat.Q4_K_M.gguf: 100% 4.08G/4.08G [00:29<00:00, 140MB/s]\n",
            "./llama-2-7b-chat.Q4_K_M.gguf\n"
          ]
        }
      ],
      "source": [
        "!huggingface-cli download TheBloke/Llama-2-7b-Chat-GGUF llama-2-7b-chat.Q4_K_M.gguf --local-dir . --local-dir-use-symlinks False"
      ]
    },
    {
      "cell_type": "code",
      "execution_count": null,
      "metadata": {
        "id": "_Cm8GcFj3T_p"
      },
      "outputs": [],
      "source": [
        "%env PG_CONN_STRING=...\n",
        "%env DOC_URL=https://www.enterprisedb.com/docs/pdfs/biganimal/release/biganimal_vrelease_documentation.pdf"
      ]
    },
    {
      "cell_type": "code",
      "execution_count": null,
      "metadata": {
        "colab": {
          "background_save": true
        },
        "id": "fAIEJOcq6hZp"
      },
      "outputs": [],
      "source": [
        "!git pull && python ./llama-2-7b-chat-app.py"
      ]
    }
  ],
  "metadata": {
    "accelerator": "GPU",
    "colab": {
      "provenance": [],
      "authorship_tag": "ABX9TyMwNl/eV85eH7482BoccwNl",
      "include_colab_link": true
    },
    "kernelspec": {
      "display_name": "Python 3",
      "name": "python3"
    },
    "language_info": {
      "name": "python"
    }
  },
  "nbformat": 4,
  "nbformat_minor": 0
}